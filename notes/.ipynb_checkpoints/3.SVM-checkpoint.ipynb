{
 "cells": [
  {
   "cell_type": "code",
   "execution_count": null,
   "metadata": {},
   "outputs": [],
   "source": []
  },
  {
   "cell_type": "markdown",
   "metadata": {},
   "source": [
    "# 参考 \n",
    "https://www.zhihu.com/question/26658861/answer/631753103 对偶问题   \n",
    "https://zhuanlan.zhihu.com/p/90816441 拉格朗日乘子法（高中例子）   \n",
    "https://zhuanlan.zhihu.com/p/55719829 图解拉格朗日乘子法   \n",
    "https://www.zhihu.com/question/38586401/answer/105400458 如何理解拉格朗日乘子法 "
   ]
  }
 ],
 "metadata": {
  "kernelspec": {
   "display_name": "tensorflow",
   "language": "python",
   "name": "tensorflow"
  },
  "language_info": {
   "codemirror_mode": {
    "name": "ipython",
    "version": 3
   },
   "file_extension": ".py",
   "mimetype": "text/x-python",
   "name": "python",
   "nbconvert_exporter": "python",
   "pygments_lexer": "ipython3",
   "version": "3.7.0"
  }
 },
 "nbformat": 4,
 "nbformat_minor": 4
}
